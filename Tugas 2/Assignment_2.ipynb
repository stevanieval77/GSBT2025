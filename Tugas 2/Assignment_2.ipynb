{
  "nbformat": 4,
  "nbformat_minor": 0,
  "metadata": {
    "colab": {
      "provenance": []
    },
    "kernelspec": {
      "name": "python3",
      "display_name": "Python 3"
    },
    "language_info": {
      "name": "python"
    }
  },
  "cells": [
    {
      "cell_type": "code",
      "execution_count": 1,
      "metadata": {
        "colab": {
          "base_uri": "https://localhost:8080/"
        },
        "id": "t-q3mhfz1iWl",
        "outputId": "55ac91cc-4920-4ce0-c1f0-07426670dd08"
      },
      "outputs": [
        {
          "output_type": "stream",
          "name": "stdout",
          "text": [
            "Prediksi: ['No', 'Yes', 'Yes']\n"
          ]
        }
      ],
      "source": [
        "# Decision Tree Implementation From Scratch\n",
        "# GSB Training 2025 - Class 2 Assignment\n",
        "\n",
        "import numpy as np\n",
        "from collections import Counter"
      ]
    },
    {
      "cell_type": "code",
      "source": [
        "# 1. Hitung impurity (Gini)\n",
        "def gini(y):\n",
        "    counts = Counter(y)\n",
        "    impurity = 1\n",
        "    for label in counts:\n",
        "        prob = counts[label] / len(y)\n",
        "        impurity -= prob ** 2\n",
        "    return impurity"
      ],
      "metadata": {
        "id": "Wi6vic-p2fW8"
      },
      "execution_count": 2,
      "outputs": []
    },
    {
      "cell_type": "code",
      "source": [
        "# 2. Split dataset\n",
        "def split_dataset(X, y, feature, value):\n",
        "    left_idx = [i for i in range(len(X)) if X[i][feature] <= value]\n",
        "    right_idx = [i for i in range(len(X)) if X[i][feature] > value]\n",
        "\n",
        "    X_left = [X[i] for i in left_idx]\n",
        "    y_left = [y[i] for i in left_idx]\n",
        "    X_right = [X[i] for i in right_idx]\n",
        "    y_right = [y[i] for i in right_idx]\n",
        "\n",
        "    return X_left, y_left, X_right, y_right"
      ],
      "metadata": {
        "id": "H3tYWBpk2ice"
      },
      "execution_count": 3,
      "outputs": []
    },
    {
      "cell_type": "code",
      "source": [
        "# 3. Cari split terbaik\n",
        "def best_split(X, y):\n",
        "    best_gain = 0\n",
        "    best_feature, best_value = None, None\n",
        "    current_impurity = gini(y)\n",
        "\n",
        "    n_features = len(X[0])\n",
        "    for feature in range(n_features):\n",
        "        values = set([row[feature] for row in X])\n",
        "        for val in values:\n",
        "            X_left, y_left, X_right, y_right = split_dataset(X, y, feature, val)\n",
        "\n",
        "            if len(y_left) == 0 or len(y_right) == 0:\n",
        "                continue\n",
        "\n",
        "            # weighted gini\n",
        "            p = len(y_left) / len(y)\n",
        "            impurity = p * gini(y_left) + (1 - p) * gini(y_right)\n",
        "            gain = current_impurity - impurity\n",
        "\n",
        "            if gain > best_gain:\n",
        "                best_gain = gain\n",
        "                best_feature = feature\n",
        "                best_value = val\n",
        "\n",
        "    return best_feature, best_value, best_gain\n"
      ],
      "metadata": {
        "id": "LYJ8ziGn2pha"
      },
      "execution_count": 4,
      "outputs": []
    },
    {
      "cell_type": "code",
      "source": [
        "# 4. Node Class\n",
        "class Node:\n",
        "    def __init__(self, feature=None, value=None, left=None, right=None, *, label=None):\n",
        "        self.feature = feature\n",
        "        self.value = value\n",
        "        self.left = left\n",
        "        self.right = right\n",
        "        self.label = label"
      ],
      "metadata": {
        "id": "H_EJSivF2w4R"
      },
      "execution_count": 5,
      "outputs": []
    },
    {
      "cell_type": "code",
      "source": [
        "# 5. Build tree\n",
        "def build_tree(X, y, depth=0, max_depth=5):\n",
        "    # stop condition\n",
        "    if len(set(y)) == 1:\n",
        "        return Node(label=y[0])\n",
        "    if depth >= max_depth:\n",
        "        return Node(label=Counter(y).most_common(1)[0][0])\n",
        "\n",
        "    feature, value, gain = best_split(X, y)\n",
        "    if gain == 0:\n",
        "        return Node(label=Counter(y).most_common(1)[0][0])\n",
        "\n",
        "    X_left, y_left, X_right, y_right = split_dataset(X, y, feature, value)\n",
        "    left_branch = build_tree(X_left, y_left, depth+1, max_depth)\n",
        "    right_branch = build_tree(X_right, y_right, depth+1, max_depth)\n",
        "\n",
        "    return Node(feature, value, left_branch, right_branch)\n"
      ],
      "metadata": {
        "id": "VBWeUtg321pR"
      },
      "execution_count": 6,
      "outputs": []
    },
    {
      "cell_type": "code",
      "source": [
        "# 6. Prediksi\n",
        "def predict_one(node, sample):\n",
        "    if node.label is not None:\n",
        "        return node.label\n",
        "    if sample[node.feature] <= node.value:\n",
        "        return predict_one(node.left, sample)\n",
        "    else:\n",
        "        return predict_one(node.right, sample)\n",
        "\n",
        "def predict(tree, X):\n",
        "    return [predict_one(tree, sample) for sample in X]"
      ],
      "metadata": {
        "id": "V60UVp4e268S"
      },
      "execution_count": 7,
      "outputs": []
    },
    {
      "cell_type": "code",
      "source": [
        "# 7. Contoh penggunaan\n",
        "if __name__ == \"__main__\":\n",
        "    # Dataset sederhana: [Outlook, Temperature], Label = Main Tennis\n",
        "    # 0 = cerah, 1 = mendung, 2 = hujan\n",
        "    # Temperature = angka (derajat)\n",
        "    X = [\n",
        "        [0, 30],\n",
        "        [0, 25],\n",
        "        [1, 28],\n",
        "        [2, 20],\n",
        "        [2, 23],\n",
        "        [1, 21],\n",
        "        [0, 24],\n",
        "    ]\n",
        "    y = [\"No\", \"No\", \"Yes\", \"Yes\", \"Yes\", \"Yes\", \"No\"]\n",
        "\n",
        "    tree = build_tree(X, y, max_depth=3)\n",
        "\n",
        "    test_data = [[0, 26], [2, 22], [1, 27]]\n",
        "    print(\"Prediksi:\", predict(tree, test_data))"
      ],
      "metadata": {
        "colab": {
          "base_uri": "https://localhost:8080/"
        },
        "id": "3rXD_wXs2-vZ",
        "outputId": "d2ba8af1-3129-4b54-c3c7-94b900a984b6"
      },
      "execution_count": 8,
      "outputs": [
        {
          "output_type": "stream",
          "name": "stdout",
          "text": [
            "Prediksi: ['No', 'Yes', 'Yes']\n"
          ]
        }
      ]
    }
  ]
}